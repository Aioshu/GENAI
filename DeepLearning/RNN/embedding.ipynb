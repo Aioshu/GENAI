{
 "cells": [
  {
   "cell_type": "code",
   "execution_count": 1,
   "metadata": {},
   "outputs": [],
   "source": [
    "from tensorflow.keras.preprocessing.text import one_hot "
   ]
  },
  {
   "cell_type": "code",
   "execution_count": 17,
   "metadata": {},
   "outputs": [],
   "source": [
    "sent =['the glass of milk',\n",
    "       \"the glass of juice\",\n",
    "       \"I'm good devloper\",\n",
    "       \"ArithmeticError is error python \"]"
   ]
  },
  {
   "cell_type": "code",
   "execution_count": 18,
   "metadata": {},
   "outputs": [],
   "source": [
    "voc_size=10000"
   ]
  },
  {
   "cell_type": "code",
   "execution_count": 19,
   "metadata": {},
   "outputs": [],
   "source": [
    "one_hot_repr=[one_hot(words,voc_size) for words in sent]"
   ]
  },
  {
   "cell_type": "code",
   "execution_count": 20,
   "metadata": {},
   "outputs": [
    {
     "data": {
      "text/plain": [
       "[[8431, 9403, 3337, 8613],\n",
       " [8431, 9403, 3337, 6344],\n",
       " [3563, 5502, 9993],\n",
       " [6754, 36, 5033, 636]]"
      ]
     },
     "execution_count": 20,
     "metadata": {},
     "output_type": "execute_result"
    }
   ],
   "source": [
    "one_hot_repr"
   ]
  },
  {
   "cell_type": "code",
   "execution_count": 34,
   "metadata": {},
   "outputs": [],
   "source": [
    "## word embedding represtation\n",
    "from tensorflow.keras.layers import Embedding\n",
    "#from tensorflow.keras.preprocessing.sequence import pad_sequences\n",
    "from tensorflow.keras.utils import pad_sequences\n",
    "from tensorflow.keras.models import Sequential"
   ]
  },
  {
   "cell_type": "code",
   "execution_count": 35,
   "metadata": {},
   "outputs": [],
   "source": [
    "import numpy as np"
   ]
  },
  {
   "cell_type": "code",
   "execution_count": 36,
   "metadata": {},
   "outputs": [],
   "source": [
    "sent_length=8"
   ]
  },
  {
   "cell_type": "code",
   "execution_count": 37,
   "metadata": {},
   "outputs": [],
   "source": [
    "embeddings_doc=pad_sequences(one_hot_repr,padding=\"pre\",maxlen=sent_length)"
   ]
  },
  {
   "cell_type": "code",
   "execution_count": 38,
   "metadata": {},
   "outputs": [
    {
     "data": {
      "text/plain": [
       "array([[   0,    0,    0,    0, 8431, 9403, 3337, 8613],\n",
       "       [   0,    0,    0,    0, 8431, 9403, 3337, 6344],\n",
       "       [   0,    0,    0,    0,    0, 3563, 5502, 9993],\n",
       "       [   0,    0,    0,    0, 6754,   36, 5033,  636]])"
      ]
     },
     "execution_count": 38,
     "metadata": {},
     "output_type": "execute_result"
    }
   ],
   "source": [
    "embeddings_doc"
   ]
  },
  {
   "cell_type": "code",
   "execution_count": 39,
   "metadata": {},
   "outputs": [],
   "source": [
    "# feature Representation \n",
    "dim=10"
   ]
  },
  {
   "cell_type": "code",
   "execution_count": 42,
   "metadata": {},
   "outputs": [],
   "source": [
    "model=Sequential()\n",
    "model.add(Embedding(voc_size,dim))\n",
    "model.compile(\"adam\",\"mse\")"
   ]
  },
  {
   "cell_type": "code",
   "execution_count": 43,
   "metadata": {},
   "outputs": [
    {
     "data": {
      "text/html": [
       "<pre style=\"white-space:pre;overflow-x:auto;line-height:normal;font-family:Menlo,'DejaVu Sans Mono',consolas,'Courier New',monospace\"><span style=\"font-weight: bold\">Model: \"sequential_6\"</span>\n",
       "</pre>\n"
      ],
      "text/plain": [
       "\u001b[1mModel: \"sequential_6\"\u001b[0m\n"
      ]
     },
     "metadata": {},
     "output_type": "display_data"
    },
    {
     "data": {
      "text/html": [
       "<pre style=\"white-space:pre;overflow-x:auto;line-height:normal;font-family:Menlo,'DejaVu Sans Mono',consolas,'Courier New',monospace\">┏━━━━━━━━━━━━━━━━━━━━━━━━━━━━━━━━━┳━━━━━━━━━━━━━━━━━━━━━━━━┳━━━━━━━━━━━━━━━┓\n",
       "┃<span style=\"font-weight: bold\"> Layer (type)                    </span>┃<span style=\"font-weight: bold\"> Output Shape           </span>┃<span style=\"font-weight: bold\">       Param # </span>┃\n",
       "┡━━━━━━━━━━━━━━━━━━━━━━━━━━━━━━━━━╇━━━━━━━━━━━━━━━━━━━━━━━━╇━━━━━━━━━━━━━━━┩\n",
       "│ embedding_4 (<span style=\"color: #0087ff; text-decoration-color: #0087ff\">Embedding</span>)         │ ?                      │   <span style=\"color: #00af00; text-decoration-color: #00af00\">0</span> (unbuilt) │\n",
       "└─────────────────────────────────┴────────────────────────┴───────────────┘\n",
       "</pre>\n"
      ],
      "text/plain": [
       "┏━━━━━━━━━━━━━━━━━━━━━━━━━━━━━━━━━┳━━━━━━━━━━━━━━━━━━━━━━━━┳━━━━━━━━━━━━━━━┓\n",
       "┃\u001b[1m \u001b[0m\u001b[1mLayer (type)                   \u001b[0m\u001b[1m \u001b[0m┃\u001b[1m \u001b[0m\u001b[1mOutput Shape          \u001b[0m\u001b[1m \u001b[0m┃\u001b[1m \u001b[0m\u001b[1m      Param #\u001b[0m\u001b[1m \u001b[0m┃\n",
       "┡━━━━━━━━━━━━━━━━━━━━━━━━━━━━━━━━━╇━━━━━━━━━━━━━━━━━━━━━━━━╇━━━━━━━━━━━━━━━┩\n",
       "│ embedding_4 (\u001b[38;5;33mEmbedding\u001b[0m)         │ ?                      │   \u001b[38;5;34m0\u001b[0m (unbuilt) │\n",
       "└─────────────────────────────────┴────────────────────────┴───────────────┘\n"
      ]
     },
     "metadata": {},
     "output_type": "display_data"
    },
    {
     "data": {
      "text/html": [
       "<pre style=\"white-space:pre;overflow-x:auto;line-height:normal;font-family:Menlo,'DejaVu Sans Mono',consolas,'Courier New',monospace\"><span style=\"font-weight: bold\"> Total params: </span><span style=\"color: #00af00; text-decoration-color: #00af00\">0</span> (0.00 B)\n",
       "</pre>\n"
      ],
      "text/plain": [
       "\u001b[1m Total params: \u001b[0m\u001b[38;5;34m0\u001b[0m (0.00 B)\n"
      ]
     },
     "metadata": {},
     "output_type": "display_data"
    },
    {
     "data": {
      "text/html": [
       "<pre style=\"white-space:pre;overflow-x:auto;line-height:normal;font-family:Menlo,'DejaVu Sans Mono',consolas,'Courier New',monospace\"><span style=\"font-weight: bold\"> Trainable params: </span><span style=\"color: #00af00; text-decoration-color: #00af00\">0</span> (0.00 B)\n",
       "</pre>\n"
      ],
      "text/plain": [
       "\u001b[1m Trainable params: \u001b[0m\u001b[38;5;34m0\u001b[0m (0.00 B)\n"
      ]
     },
     "metadata": {},
     "output_type": "display_data"
    },
    {
     "data": {
      "text/html": [
       "<pre style=\"white-space:pre;overflow-x:auto;line-height:normal;font-family:Menlo,'DejaVu Sans Mono',consolas,'Courier New',monospace\"><span style=\"font-weight: bold\"> Non-trainable params: </span><span style=\"color: #00af00; text-decoration-color: #00af00\">0</span> (0.00 B)\n",
       "</pre>\n"
      ],
      "text/plain": [
       "\u001b[1m Non-trainable params: \u001b[0m\u001b[38;5;34m0\u001b[0m (0.00 B)\n"
      ]
     },
     "metadata": {},
     "output_type": "display_data"
    }
   ],
   "source": [
    "model.summary()"
   ]
  },
  {
   "cell_type": "code",
   "execution_count": 44,
   "metadata": {},
   "outputs": [
    {
     "data": {
      "text/plain": [
       "'3.4.1'"
      ]
     },
     "execution_count": 44,
     "metadata": {},
     "output_type": "execute_result"
    }
   ],
   "source": [
    "import keras\n",
    "\n",
    "keras.__version__"
   ]
  },
  {
   "cell_type": "code",
   "execution_count": 49,
   "metadata": {},
   "outputs": [
    {
     "data": {
      "text/plain": [
       "array([   0,    0,    0,    0, 8431, 9403, 3337, 8613])"
      ]
     },
     "execution_count": 49,
     "metadata": {},
     "output_type": "execute_result"
    }
   ],
   "source": [
    "embeddings_doc[0]"
   ]
  },
  {
   "cell_type": "code",
   "execution_count": 50,
   "metadata": {},
   "outputs": [
    {
     "name": "stdout",
     "output_type": "stream",
     "text": [
      "\u001b[1m1/1\u001b[0m \u001b[32m━━━━━━━━━━━━━━━━━━━━\u001b[0m\u001b[37m\u001b[0m \u001b[1m0s\u001b[0m 147ms/step\n"
     ]
    }
   ],
   "source": [
    "pred_doc=model.predict(embeddings_doc)"
   ]
  },
  {
   "cell_type": "code",
   "execution_count": 51,
   "metadata": {},
   "outputs": [
    {
     "data": {
      "text/plain": [
       "4"
      ]
     },
     "execution_count": 51,
     "metadata": {},
     "output_type": "execute_result"
    }
   ],
   "source": [
    "len(pred_doc)"
   ]
  },
  {
   "cell_type": "code",
   "execution_count": 58,
   "metadata": {},
   "outputs": [
    {
     "data": {
      "text/plain": [
       "'the glass of milk'"
      ]
     },
     "execution_count": 58,
     "metadata": {},
     "output_type": "execute_result"
    }
   ],
   "source": [
    "sent[0]"
   ]
  },
  {
   "cell_type": "code",
   "execution_count": 59,
   "metadata": {},
   "outputs": [
    {
     "data": {
      "text/plain": [
       "['the glass of milk',\n",
       " 'the glass of juice',\n",
       " \"I'm good devloper\",\n",
       " 'ArithmeticError is error python ']"
      ]
     },
     "execution_count": 59,
     "metadata": {},
     "output_type": "execute_result"
    }
   ],
   "source": [
    "sent"
   ]
  },
  {
   "cell_type": "code",
   "execution_count": 56,
   "metadata": {},
   "outputs": [
    {
     "data": {
      "text/plain": [
       "array([   0,    0,    0,    0, 8431, 9403, 3337, 8613])"
      ]
     },
     "execution_count": 56,
     "metadata": {},
     "output_type": "execute_result"
    }
   ],
   "source": [
    "embeddings_doc[0]"
   ]
  },
  {
   "cell_type": "code",
   "execution_count": 60,
   "metadata": {},
   "outputs": [
    {
     "data": {
      "text/plain": [
       "array([[   0,    0,    0,    0, 8431, 9403, 3337, 8613],\n",
       "       [   0,    0,    0,    0, 8431, 9403, 3337, 6344],\n",
       "       [   0,    0,    0,    0,    0, 3563, 5502, 9993],\n",
       "       [   0,    0,    0,    0, 6754,   36, 5033,  636]])"
      ]
     },
     "execution_count": 60,
     "metadata": {},
     "output_type": "execute_result"
    }
   ],
   "source": [
    "embeddings_doc"
   ]
  },
  {
   "cell_type": "code",
   "execution_count": 55,
   "metadata": {},
   "outputs": [
    {
     "data": {
      "text/plain": [
       "array([[ 0.00589101,  0.03850342, -0.03250541, -0.02663362, -0.00754289,\n",
       "         0.00706012,  0.00581759,  0.03031403,  0.01228197,  0.04964403],\n",
       "       [ 0.00589101,  0.03850342, -0.03250541, -0.02663362, -0.00754289,\n",
       "         0.00706012,  0.00581759,  0.03031403,  0.01228197,  0.04964403],\n",
       "       [ 0.00589101,  0.03850342, -0.03250541, -0.02663362, -0.00754289,\n",
       "         0.00706012,  0.00581759,  0.03031403,  0.01228197,  0.04964403],\n",
       "       [ 0.00589101,  0.03850342, -0.03250541, -0.02663362, -0.00754289,\n",
       "         0.00706012,  0.00581759,  0.03031403,  0.01228197,  0.04964403],\n",
       "       [-0.04109045,  0.00975496, -0.02178397, -0.01117885, -0.02531   ,\n",
       "        -0.03946648,  0.00994272,  0.03632453, -0.00094583,  0.02742891],\n",
       "       [-0.04872711,  0.0099027 , -0.04765823, -0.03292378, -0.03019834,\n",
       "         0.02963341,  0.04040593, -0.01623555,  0.02263785, -0.0280681 ],\n",
       "       [-0.04528517, -0.00966363,  0.03051451,  0.01222254,  0.03352613,\n",
       "        -0.01335126, -0.0025175 , -0.01226442, -0.02266536, -0.01546215],\n",
       "       [ 0.0464613 , -0.02854899,  0.000785  ,  0.03382264,  0.01196481,\n",
       "        -0.01664604,  0.01984003, -0.03910119, -0.01384219,  0.03353467]],\n",
       "      dtype=float32)"
      ]
     },
     "execution_count": 55,
     "metadata": {},
     "output_type": "execute_result"
    }
   ],
   "source": [
    "pred_doc[0]"
   ]
  },
  {
   "cell_type": "code",
   "execution_count": 61,
   "metadata": {},
   "outputs": [
    {
     "data": {
      "text/plain": [
       "array([[[ 0.00589101,  0.03850342, -0.03250541, -0.02663362,\n",
       "         -0.00754289,  0.00706012,  0.00581759,  0.03031403,\n",
       "          0.01228197,  0.04964403],\n",
       "        [ 0.00589101,  0.03850342, -0.03250541, -0.02663362,\n",
       "         -0.00754289,  0.00706012,  0.00581759,  0.03031403,\n",
       "          0.01228197,  0.04964403],\n",
       "        [ 0.00589101,  0.03850342, -0.03250541, -0.02663362,\n",
       "         -0.00754289,  0.00706012,  0.00581759,  0.03031403,\n",
       "          0.01228197,  0.04964403],\n",
       "        [ 0.00589101,  0.03850342, -0.03250541, -0.02663362,\n",
       "         -0.00754289,  0.00706012,  0.00581759,  0.03031403,\n",
       "          0.01228197,  0.04964403],\n",
       "        [-0.04109045,  0.00975496, -0.02178397, -0.01117885,\n",
       "         -0.02531   , -0.03946648,  0.00994272,  0.03632453,\n",
       "         -0.00094583,  0.02742891],\n",
       "        [-0.04872711,  0.0099027 , -0.04765823, -0.03292378,\n",
       "         -0.03019834,  0.02963341,  0.04040593, -0.01623555,\n",
       "          0.02263785, -0.0280681 ],\n",
       "        [-0.04528517, -0.00966363,  0.03051451,  0.01222254,\n",
       "          0.03352613, -0.01335126, -0.0025175 , -0.01226442,\n",
       "         -0.02266536, -0.01546215],\n",
       "        [ 0.0464613 , -0.02854899,  0.000785  ,  0.03382264,\n",
       "          0.01196481, -0.01664604,  0.01984003, -0.03910119,\n",
       "         -0.01384219,  0.03353467]],\n",
       "\n",
       "       [[ 0.00589101,  0.03850342, -0.03250541, -0.02663362,\n",
       "         -0.00754289,  0.00706012,  0.00581759,  0.03031403,\n",
       "          0.01228197,  0.04964403],\n",
       "        [ 0.00589101,  0.03850342, -0.03250541, -0.02663362,\n",
       "         -0.00754289,  0.00706012,  0.00581759,  0.03031403,\n",
       "          0.01228197,  0.04964403],\n",
       "        [ 0.00589101,  0.03850342, -0.03250541, -0.02663362,\n",
       "         -0.00754289,  0.00706012,  0.00581759,  0.03031403,\n",
       "          0.01228197,  0.04964403],\n",
       "        [ 0.00589101,  0.03850342, -0.03250541, -0.02663362,\n",
       "         -0.00754289,  0.00706012,  0.00581759,  0.03031403,\n",
       "          0.01228197,  0.04964403],\n",
       "        [-0.04109045,  0.00975496, -0.02178397, -0.01117885,\n",
       "         -0.02531   , -0.03946648,  0.00994272,  0.03632453,\n",
       "         -0.00094583,  0.02742891],\n",
       "        [-0.04872711,  0.0099027 , -0.04765823, -0.03292378,\n",
       "         -0.03019834,  0.02963341,  0.04040593, -0.01623555,\n",
       "          0.02263785, -0.0280681 ],\n",
       "        [-0.04528517, -0.00966363,  0.03051451,  0.01222254,\n",
       "          0.03352613, -0.01335126, -0.0025175 , -0.01226442,\n",
       "         -0.02266536, -0.01546215],\n",
       "        [ 0.03945557,  0.04601809,  0.0366577 , -0.02183249,\n",
       "          0.00243907, -0.01616688,  0.00336009,  0.01660278,\n",
       "          0.01111894, -0.0418851 ]],\n",
       "\n",
       "       [[ 0.00589101,  0.03850342, -0.03250541, -0.02663362,\n",
       "         -0.00754289,  0.00706012,  0.00581759,  0.03031403,\n",
       "          0.01228197,  0.04964403],\n",
       "        [ 0.00589101,  0.03850342, -0.03250541, -0.02663362,\n",
       "         -0.00754289,  0.00706012,  0.00581759,  0.03031403,\n",
       "          0.01228197,  0.04964403],\n",
       "        [ 0.00589101,  0.03850342, -0.03250541, -0.02663362,\n",
       "         -0.00754289,  0.00706012,  0.00581759,  0.03031403,\n",
       "          0.01228197,  0.04964403],\n",
       "        [ 0.00589101,  0.03850342, -0.03250541, -0.02663362,\n",
       "         -0.00754289,  0.00706012,  0.00581759,  0.03031403,\n",
       "          0.01228197,  0.04964403],\n",
       "        [ 0.00589101,  0.03850342, -0.03250541, -0.02663362,\n",
       "         -0.00754289,  0.00706012,  0.00581759,  0.03031403,\n",
       "          0.01228197,  0.04964403],\n",
       "        [-0.03420564, -0.02004485,  0.00589228,  0.00075576,\n",
       "          0.00414004, -0.01887101,  0.03413701, -0.03220044,\n",
       "         -0.00175606,  0.03535676],\n",
       "        [ 0.01160423,  0.036562  , -0.03635746,  0.04327014,\n",
       "          0.0001778 ,  0.0123253 ,  0.02877376,  0.02565843,\n",
       "          0.00933962, -0.01915269],\n",
       "        [ 0.02343914, -0.03498038, -0.03416856,  0.02181171,\n",
       "          0.0218224 ,  0.02899161, -0.01732754, -0.01213893,\n",
       "          0.01937116, -0.03100714]],\n",
       "\n",
       "       [[ 0.00589101,  0.03850342, -0.03250541, -0.02663362,\n",
       "         -0.00754289,  0.00706012,  0.00581759,  0.03031403,\n",
       "          0.01228197,  0.04964403],\n",
       "        [ 0.00589101,  0.03850342, -0.03250541, -0.02663362,\n",
       "         -0.00754289,  0.00706012,  0.00581759,  0.03031403,\n",
       "          0.01228197,  0.04964403],\n",
       "        [ 0.00589101,  0.03850342, -0.03250541, -0.02663362,\n",
       "         -0.00754289,  0.00706012,  0.00581759,  0.03031403,\n",
       "          0.01228197,  0.04964403],\n",
       "        [ 0.00589101,  0.03850342, -0.03250541, -0.02663362,\n",
       "         -0.00754289,  0.00706012,  0.00581759,  0.03031403,\n",
       "          0.01228197,  0.04964403],\n",
       "        [ 0.02573543,  0.04289149,  0.00187306,  0.04532197,\n",
       "          0.0398615 ,  0.03485522,  0.01587204,  0.02990559,\n",
       "         -0.04708378,  0.04487647],\n",
       "        [-0.00656547, -0.03355475,  0.0201101 , -0.03155716,\n",
       "          0.01978551, -0.04335505, -0.0039234 , -0.01167226,\n",
       "         -0.03837522, -0.02908978],\n",
       "        [-0.01098204,  0.0064459 , -0.03416736, -0.03643189,\n",
       "         -0.04578167,  0.04643421,  0.01669859,  0.00619588,\n",
       "         -0.03175669, -0.00767082],\n",
       "        [ 0.04304351, -0.04065509,  0.04740964,  0.04347124,\n",
       "         -0.01757296,  0.04601636,  0.04234687, -0.01038958,\n",
       "          0.01497004, -0.03004702]]], dtype=float32)"
      ]
     },
     "execution_count": 61,
     "metadata": {},
     "output_type": "execute_result"
    }
   ],
   "source": [
    "pred_doc"
   ]
  },
  {
   "cell_type": "code",
   "execution_count": null,
   "metadata": {},
   "outputs": [],
   "source": []
  }
 ],
 "metadata": {
  "kernelspec": {
   "display_name": "Python 3",
   "language": "python",
   "name": "python3"
  },
  "language_info": {
   "codemirror_mode": {
    "name": "ipython",
    "version": 3
   },
   "file_extension": ".py",
   "mimetype": "text/x-python",
   "name": "python",
   "nbconvert_exporter": "python",
   "pygments_lexer": "ipython3",
   "version": "3.12.0"
  }
 },
 "nbformat": 4,
 "nbformat_minor": 2
}
